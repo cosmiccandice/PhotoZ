{
 "cells": [
  {
   "cell_type": "code",
   "execution_count": 42,
   "metadata": {},
   "outputs": [],
   "source": [
    "import pandas as pd"
   ]
  },
  {
   "cell_type": "code",
   "execution_count": 43,
   "metadata": {},
   "outputs": [],
   "source": [
    "ps = pd.read_csv('panstarrs_sample.csv') #sample of first 2035 rows from SOV_05.00.db.csv\n",
    "ps = ps.dropna().drop_duplicates() #drop NA values and duplicates (320 rows)\n",
    "uw = pd.read_csv('unwise_sample.csv')"
   ]
  },
  {
   "cell_type": "code",
   "execution_count": 81,
   "metadata": {},
   "outputs": [],
   "source": [
    "#Merge Data with an offset \n",
    "\n",
    "def offset_merg(offset):\n",
    "    merged = pd.merge_asof(\n",
    "        ps.astype({'ra': float}).sort_values('ra'), \n",
    "        uw.sort_values('objID'), \n",
    "        on='ra',\n",
    "        direction='nearest', \n",
    "        tolerance=offset)\n",
    "\n",
    "    return merged "
   ]
  },
  {
   "cell_type": "code",
   "execution_count": 82,
   "metadata": {},
   "outputs": [
    {
     "ename": "TypeError",
     "evalue": "merge_asof() got multiple values for argument 'on'",
     "output_type": "error",
     "traceback": [
      "\u001b[0;31m---------------------------------------------------------------------------\u001b[0m",
      "\u001b[0;31mTypeError\u001b[0m                                 Traceback (most recent call last)",
      "\u001b[0;32m<ipython-input-82-e6d1be996c13>\u001b[0m in \u001b[0;36m<module>\u001b[0;34m\u001b[0m\n\u001b[0;32m----> 1\u001b[0;31m \u001b[0moffset_merg\u001b[0m\u001b[0;34m(\u001b[0m\u001b[0;36m.000001\u001b[0m\u001b[0;34m)\u001b[0m\u001b[0;34m\u001b[0m\u001b[0;34m\u001b[0m\u001b[0m\n\u001b[0m",
      "\u001b[0;32m<ipython-input-81-339675fa94ff>\u001b[0m in \u001b[0;36moffset_merg\u001b[0;34m(offset)\u001b[0m\n\u001b[1;32m      8\u001b[0m         \u001b[0mon\u001b[0m\u001b[0;34m=\u001b[0m\u001b[0;34m'ra'\u001b[0m\u001b[0;34m,\u001b[0m\u001b[0;34m\u001b[0m\u001b[0;34m\u001b[0m\u001b[0m\n\u001b[1;32m      9\u001b[0m         \u001b[0mdirection\u001b[0m\u001b[0;34m=\u001b[0m\u001b[0;34m'nearest'\u001b[0m\u001b[0;34m,\u001b[0m\u001b[0;34m\u001b[0m\u001b[0;34m\u001b[0m\u001b[0m\n\u001b[0;32m---> 10\u001b[0;31m         tolerance=offset)\n\u001b[0m\u001b[1;32m     11\u001b[0m \u001b[0;34m\u001b[0m\u001b[0m\n\u001b[1;32m     12\u001b[0m     \u001b[0;32mreturn\u001b[0m \u001b[0mmerged\u001b[0m\u001b[0;34m\u001b[0m\u001b[0;34m\u001b[0m\u001b[0m\n",
      "\u001b[0;31mTypeError\u001b[0m: merge_asof() got multiple values for argument 'on'"
     ]
    }
   ],
   "source": [
    "offset_merg(.000001)"
   ]
  },
  {
   "cell_type": "code",
   "execution_count": null,
   "metadata": {},
   "outputs": [],
   "source": []
  },
  {
   "cell_type": "code",
   "execution_count": null,
   "metadata": {},
   "outputs": [],
   "source": []
  }
 ],
 "metadata": {
  "kernelspec": {
   "display_name": "Python 3.7.4 ('base')",
   "language": "python",
   "name": "python3"
  },
  "language_info": {
   "codemirror_mode": {
    "name": "ipython",
    "version": 3
   },
   "file_extension": ".py",
   "mimetype": "text/x-python",
   "name": "python",
   "nbconvert_exporter": "python",
   "pygments_lexer": "ipython3",
   "version": "3.7.4"
  },
  "orig_nbformat": 4,
  "vscode": {
   "interpreter": {
    "hash": "99350ae2d988b183b6326aae48f1892832e0501d54070cd89e36a73a6382bca4"
   }
  }
 },
 "nbformat": 4,
 "nbformat_minor": 2
}

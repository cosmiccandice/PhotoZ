{
 "cells": [
  {
   "cell_type": "code",
   "execution_count": 42,
   "metadata": {},
   "outputs": [],
   "source": [
    "import pandas as pd"
   ]
  },
  {
   "cell_type": "code",
   "execution_count": 81,
   "metadata": {},
   "outputs": [],
   "source": [
    "#Mergeing Data with an offset \n",
    "\n",
    "def offset_merg(offset):\n",
    "    merged = pd.merge_asof(\n",
    "        ps.astype({'ra': float}).sort_values('ra'), \n",
    "        uw.sort_values('objID'), \n",
    "        on='ra',\n",
    "        direction='nearest', \n",
    "        tolerance=offset)\n",
    "\n",
    "    return merged "
   ]
  },
  {
   "cell_type": "code",
   "execution_count": null,
   "metadata": {},
   "outputs": [],
   "source": []
  },
  {
   "cell_type": "code",
   "execution_count": null,
   "metadata": {},
   "outputs": [],
   "source": []
  }
 ],
 "metadata": {
  "kernelspec": {
   "display_name": "Python 3.7.4 ('base')",
   "language": "python",
   "name": "python3"
  },
  "language_info": {
   "codemirror_mode": {
    "name": "ipython",
    "version": 3
   },
   "file_extension": ".py",
   "mimetype": "text/x-python",
   "name": "python",
   "nbconvert_exporter": "python",
   "pygments_lexer": "ipython3",
   "version": "3.7.4"
  },
  "orig_nbformat": 4,
  "vscode": {
   "interpreter": {
    "hash": "99350ae2d988b183b6326aae48f1892832e0501d54070cd89e36a73a6382bca4"
   }
  }
 },
 "nbformat": 4,
 "nbformat_minor": 2
}
